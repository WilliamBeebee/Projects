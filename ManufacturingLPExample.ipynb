{
  "nbformat": 4,
  "nbformat_minor": 0,
  "metadata": {
    "colab": {
      "provenance": [],
      "authorship_tag": "ABX9TyNPPG5KH7qpSN+JzVlyF0PQ",
      "include_colab_link": true
    },
    "kernelspec": {
      "name": "python3",
      "display_name": "Python 3"
    },
    "language_info": {
      "name": "python"
    }
  },
  "cells": [
    {
      "cell_type": "markdown",
      "metadata": {
        "id": "view-in-github",
        "colab_type": "text"
      },
      "source": [
        "<a href=\"https://colab.research.google.com/github/WilliamBeebee/Projects/blob/main/ManufacturingLPExample.ipynb\" target=\"_parent\"><img src=\"https://colab.research.google.com/assets/colab-badge.svg\" alt=\"Open In Colab\"/></a>"
      ]
    },
    {
      "cell_type": "code",
      "execution_count": 13,
      "metadata": {
        "colab": {
          "base_uri": "https://localhost:8080/"
        },
        "id": "3dnBDNdCLeVi",
        "outputId": "909efdf5-07d6-4c13-d5c8-7ced0e44971a"
      },
      "outputs": [
        {
          "output_type": "stream",
          "name": "stdout",
          "text": [
            "Requirement already satisfied: pulp in /usr/local/lib/python3.10/dist-packages (2.8.0)\n"
          ]
        }
      ],
      "source": [
        "pip install pulp"
      ]
    },
    {
      "cell_type": "code",
      "source": [
        "# # let x be for unit X\n",
        "# # let y be for unit y\n",
        "\n",
        "# # #Constraints\n",
        "# # A =  50 min x  24 min y <= 40hours(60min)\n",
        "# # B = 30 minx  33 min y  <= 35hours(60min)\n",
        "\n",
        "# #Start and End\n",
        "# x = 30 75\n",
        "# y = 90 95\n",
        "\n",
        "# x + y = (75-30) + (95-90)\n",
        "# x + y = 45 + 5\n",
        "# x + y = 50\n",
        "\n",
        "# #Objective fxn\n",
        "# x = y - 50"
      ],
      "metadata": {
        "id": "2_Ht4cbFLx7e"
      },
      "execution_count": 8,
      "outputs": []
    },
    {
      "cell_type": "code",
      "source": [
        "#Define Var's\n",
        "import pulp\n",
        "X = pulp.LpVariable('X', lowBound=0)\n",
        "y = pulp.LpVariable('y', lowBound=0)"
      ],
      "metadata": {
        "id": "JfinzbHqMFnE"
      },
      "execution_count": 17,
      "outputs": []
    },
    {
      "cell_type": "code",
      "source": [
        "#Objective fxn\n",
        "max_profit = pulp.LpProblem('Maximize_Profit', pulp.LpMaximize)"
      ],
      "metadata": {
        "id": "Hf-DSYFXNnLN"
      },
      "execution_count": 18,
      "outputs": []
    },
    {
      "cell_type": "code",
      "source": [
        "max_profit += X + y - 50"
      ],
      "metadata": {
        "id": "m9C1qYpMOYBU"
      },
      "execution_count": 19,
      "outputs": []
    },
    {
      "cell_type": "code",
      "source": [
        "#Constraints\n",
        "max_profit += 50*X + 24*y <= 40*60\n",
        "max_profit += 30*X + 33*y <= 35*60\n",
        "max_profit += X >= 75 - 30\n",
        "max_profit += y >= 95 -90"
      ],
      "metadata": {
        "id": "uXWPaKW1Oe6N"
      },
      "execution_count": 21,
      "outputs": []
    },
    {
      "cell_type": "code",
      "source": [
        "#Solve\n",
        "max_profit.solve()"
      ],
      "metadata": {
        "colab": {
          "base_uri": "https://localhost:8080/"
        },
        "id": "yBxNEewhPURV",
        "outputId": "6a8e21ac-b1ce-47fa-a683-e0adce703b33"
      },
      "execution_count": 22,
      "outputs": [
        {
          "output_type": "execute_result",
          "data": {
            "text/plain": [
              "1"
            ]
          },
          "metadata": {},
          "execution_count": 22
        }
      ]
    },
    {
      "cell_type": "code",
      "source": [
        "#Preview\n",
        "print(max_profit)"
      ],
      "metadata": {
        "colab": {
          "base_uri": "https://localhost:8080/"
        },
        "id": "0KD08NSpPuwN",
        "outputId": "b79c7c16-b548-4408-bbc7-83038a9ab6e0"
      },
      "execution_count": 23,
      "outputs": [
        {
          "output_type": "stream",
          "name": "stdout",
          "text": [
            "Maximize_Profit:\n",
            "MAXIMIZE\n",
            "1*X + 1*y + -50\n",
            "SUBJECT TO\n",
            "_C1: 50 X + 24 y <= 2400\n",
            "\n",
            "_C2: 30 X + 33 y <= 2100\n",
            "\n",
            "_C3: 50 X + 24 y <= 2400\n",
            "\n",
            "_C4: 30 X + 33 y <= 2100\n",
            "\n",
            "_C5: X >= 45\n",
            "\n",
            "_C6: y >= 5\n",
            "\n",
            "VARIABLES\n",
            "X Continuous\n",
            "y Continuous\n",
            "\n"
          ]
        }
      ]
    },
    {
      "cell_type": "code",
      "source": [
        "for var in max_profit.variables():\n",
        "  print(var.name, '====>', var.value())"
      ],
      "metadata": {
        "colab": {
          "base_uri": "https://localhost:8080/"
        },
        "id": "fXGhZ-a2P4Os",
        "outputId": "75953686-96df-4cc9-a82c-1b3af1344fb4"
      },
      "execution_count": 26,
      "outputs": [
        {
          "output_type": "stream",
          "name": "stdout",
          "text": [
            "X ====> 45.0\n",
            "y ====> 6.25\n"
          ]
        }
      ]
    },
    {
      "cell_type": "code",
      "source": [
        "pulp.value(max_profit.objective)"
      ],
      "metadata": {
        "colab": {
          "base_uri": "https://localhost:8080/"
        },
        "id": "fz2ClRAqQDJl",
        "outputId": "3430689a-8d41-4363-a6fd-9c147aab3896"
      },
      "execution_count": 28,
      "outputs": [
        {
          "output_type": "execute_result",
          "data": {
            "text/plain": [
              "1.25"
            ]
          },
          "metadata": {},
          "execution_count": 28
        }
      ]
    }
  ]
}