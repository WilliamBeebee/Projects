{
  "nbformat": 4,
  "nbformat_minor": 0,
  "metadata": {
    "colab": {
      "provenance": [],
      "authorship_tag": "ABX9TyMwPyfgipJVORHZEFWsWxKY",
      "include_colab_link": true
    },
    "kernelspec": {
      "name": "python3",
      "display_name": "Python 3"
    },
    "language_info": {
      "name": "python"
    }
  },
  "cells": [
    {
      "cell_type": "markdown",
      "metadata": {
        "id": "view-in-github",
        "colab_type": "text"
      },
      "source": [
        "<a href=\"https://colab.research.google.com/github/WilliamBeebee/Projects/blob/main/OptimizationModelTemplate.ipynb\" target=\"_parent\"><img src=\"https://colab.research.google.com/assets/colab-badge.svg\" alt=\"Open In Colab\"/></a>"
      ]
    },
    {
      "cell_type": "code",
      "source": [
        "#Linear Programming Model for Optimization\n",
        "!pip install pulp\n"
      ],
      "metadata": {
        "colab": {
          "base_uri": "https://localhost:8080/"
        },
        "id": "-7JKewq7H-s5",
        "outputId": "fd7c99ed-251a-4bcf-ce08-8c428077aeb4"
      },
      "execution_count": null,
      "outputs": [
        {
          "output_type": "stream",
          "name": "stdout",
          "text": [
            "Collecting pulp\n",
            "  Downloading PuLP-2.8.0-py3-none-any.whl (17.7 MB)\n",
            "\u001b[2K     \u001b[90m━━━━━━━━━━━━━━━━━━━━━━━━━━━━━━━━━━━━━━━━\u001b[0m \u001b[32m17.7/17.7 MB\u001b[0m \u001b[31m31.6 MB/s\u001b[0m eta \u001b[36m0:00:00\u001b[0m\n",
            "\u001b[?25hInstalling collected packages: pulp\n",
            "Successfully installed pulp-2.8.0\n"
          ]
        }
      ]
    },
    {
      "cell_type": "code",
      "source": [
        "from pulp import LpMaximize, LpProblem,LpVariable"
      ],
      "metadata": {
        "id": "ORVDawQFIIbx"
      },
      "execution_count": null,
      "outputs": []
    },
    {
      "cell_type": "code",
      "source": [
        "model = LpProblem(name='max_profit', sense = LpMaximize)"
      ],
      "metadata": {
        "id": "G4LVoqccILGp"
      },
      "execution_count": null,
      "outputs": []
    },
    {
      "cell_type": "code",
      "source": [
        "X_aqua = LpVariable(name = 'Aqua', lowBound=0, cat='Integer')\n",
        "X_hydro = LpVariable(name='Hydro', lowBound=0, cat = 'Integer')"
      ],
      "metadata": {
        "id": "qJhWKdITIUvp"
      },
      "execution_count": null,
      "outputs": []
    },
    {
      "cell_type": "code",
      "source": [
        "profit_aqua = 450\n",
        "profit_hydro = 300"
      ],
      "metadata": {
        "id": "ZxWxCQczJHNC"
      },
      "execution_count": null,
      "outputs": []
    },
    {
      "cell_type": "code",
      "source": [
        "model += profit_aqua * X_aqua + profit_hydro *X_hydro,\"Total_Profit\""
      ],
      "metadata": {
        "id": "7CbzpbfWJQC5"
      },
      "execution_count": null,
      "outputs": []
    },
    {
      "cell_type": "code",
      "source": [
        "# += is used to add constraints\n",
        "model += 1 * X_aqua + 1 * X_hydro <= 200, \"Pump_Constraint\"\n",
        "model += 9 * X_aqua + 6 * X_hydro <= 1566, \"Labor_Constriant\"\n",
        "model += 12 * X_aqua + 16 * X_hydro <= 2880, \"Tubing_Constraint\""
      ],
      "metadata": {
        "id": "7TSz0_u-JgoS"
      },
      "execution_count": null,
      "outputs": []
    },
    {
      "cell_type": "code",
      "source": [
        "model.solve()"
      ],
      "metadata": {
        "colab": {
          "base_uri": "https://localhost:8080/"
        },
        "id": "c0jKu1N6KDlI",
        "outputId": "4e20711b-bada-4216-8363-7de30ba9da74"
      },
      "execution_count": null,
      "outputs": [
        {
          "output_type": "execute_result",
          "data": {
            "text/plain": [
              "1"
            ]
          },
          "metadata": {},
          "execution_count": 47
        }
      ]
    },
    {
      "cell_type": "code",
      "source": [
        "#Status must be = 1 if optimal\n",
        "print(f\"Status: {model.status}\")\n",
        "print(f\"Optimal Aqua units: {X_aqua.value()}\")\n",
        "print(f\"Optimal Hydro units: {X_hydro.value()}\")\n",
        "print(f\"Total profit: {model.objective.value()}\")\n"
      ],
      "metadata": {
        "colab": {
          "base_uri": "https://localhost:8080/"
        },
        "id": "Xw5Wh7CQKGqi",
        "outputId": "3ab3643e-0820-415a-b443-a949e774fb1b"
      },
      "execution_count": null,
      "outputs": [
        {
          "output_type": "stream",
          "name": "stdout",
          "text": [
            "Status: 1\n",
            "Optimal Aqua units: 174.0\n",
            "Optimal Hydro units: 0.0\n",
            "Total profit: 78300.0\n"
          ]
        }
      ]
    },
    {
      "cell_type": "code",
      "source": [
        "# Sensitivity Analysis\n",
        "print(\"\\nSensitivity Analysis:\")\n",
        "for constraint in model.constraints:\n",
        "    shadow_price = model.constraints[constraint].pi\n",
        "    print(f\"{constraint}: {shadow_price}\")\n",
        "\n",
        "#constraints are not binding (an increase in one does not change our optimized profit)"
      ],
      "metadata": {
        "colab": {
          "base_uri": "https://localhost:8080/"
        },
        "id": "Fp4vJ9ObKzwW",
        "outputId": "709eae2d-ba5a-48f8-8123-3b50265b7c01"
      },
      "execution_count": null,
      "outputs": [
        {
          "output_type": "stream",
          "name": "stdout",
          "text": [
            "\n",
            "Sensitivity Analysis:\n",
            "Pump_Constraint: -0.0\n",
            "Labor_Constriant: -0.0\n",
            "Tubing_Constraint: -0.0\n"
          ]
        }
      ]
    },
    {
      "cell_type": "code",
      "source": [],
      "metadata": {
        "id": "glAlIPNfK0Qy"
      },
      "execution_count": null,
      "outputs": []
    }
  ]
}